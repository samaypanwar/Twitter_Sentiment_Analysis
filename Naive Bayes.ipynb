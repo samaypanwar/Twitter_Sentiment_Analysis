{
 "cells": [
  {
   "cell_type": "code",
   "execution_count": 1,
   "metadata": {},
   "outputs": [],
   "source": [
    "import pandas as pd\n",
    "import matplotlib.pyplot as plt\n",
    "import numpy as np\n",
    "import seaborn as sns\n",
    "from TwitterAPI import TwitterAPI\n",
    "import nltk\n",
    "from nltk.stem.wordnet import WordNetLemmatizer\n",
    "from string import punctuation\n",
    "from sklearn.utils import shuffle\n",
    "from nltk.corpus import stopwords\n",
    "plt.rcParams['figure.figsize']=(12.0,4.0)"
   ]
  },
  {
   "cell_type": "code",
   "execution_count": 2,
   "metadata": {},
   "outputs": [],
   "source": [
    "api = TwitterAPI(consumer_key='XrJHIZzeveP06K992nXShtUXS',\n",
    "                        consumer_secret='kZl0F2ghB8ecqI1PK6NjV5tKW4szTNW5bnyDmeuCKHF6Gbdttd',\n",
    "                        access_token_key='1295434260514402307-pq7jzeDl1j8piM3Bpqo1Y1HoFXRCEQ',\n",
    "                        access_token_secret='Gqks3ZhgD45YTYAkaqLQBUjblkPfGDjhJbgjnXG3jUz0r')\n"
   ]
  },
  {
   "cell_type": "code",
   "execution_count": 80,
   "metadata": {
    "scrolled": true
   },
   "outputs": [],
   "source": [
    "df=pd.read_csv(r\"dataset\\train_data_full.csv\",encoding=\"ISO-8859-1\",header=None)\n",
    "df = shuffle(df)\n",
    "\n",
    "df = df.sample(frac=0.00625).reset_index(drop=True)"
   ]
  },
  {
   "cell_type": "code",
   "execution_count": null,
   "metadata": {},
   "outputs": [],
   "source": []
  },
  {
   "cell_type": "code",
   "execution_count": 82,
   "metadata": {},
   "outputs": [
    {
     "data": {
      "text/plain": [
       "0"
      ]
     },
     "execution_count": 82,
     "metadata": {},
     "output_type": "execute_result"
    }
   ],
   "source": [
    "len(df[df[0]==2])"
   ]
  },
  {
   "cell_type": "code",
   "execution_count": 83,
   "metadata": {},
   "outputs": [],
   "source": [
    "def class_imbalance(dataset,threshold,target='Polarity',num_classes=2):\n",
    "    c=[]\n",
    "    l=dataset[target].count()/num_classes\n",
    "    print(\"Ideal class size : \",l)\n",
    "    for i in range(num_classes):\n",
    "        k=np.array(dataset[dataset[target]==4*i])\n",
    "        \n",
    "        c.append(len(k))\n",
    "        print(\"Length of class\",i,\": \",c[i])\n",
    "        if (1-threshold)*l<c[i]<(1+threshold)*l:\n",
    "            continue;\n",
    "            \n",
    "        else:\n",
    "            print('There exists a Class Imbalance in your Dataset')\n",
    "            return True\n",
    "            break;\n",
    "    return False"
   ]
  },
  {
   "cell_type": "code",
   "execution_count": 84,
   "metadata": {},
   "outputs": [
    {
     "data": {
      "text/html": [
       "<div>\n",
       "<style scoped>\n",
       "    .dataframe tbody tr th:only-of-type {\n",
       "        vertical-align: middle;\n",
       "    }\n",
       "\n",
       "    .dataframe tbody tr th {\n",
       "        vertical-align: top;\n",
       "    }\n",
       "\n",
       "    .dataframe thead th {\n",
       "        text-align: right;\n",
       "    }\n",
       "</style>\n",
       "<table border=\"1\" class=\"dataframe\">\n",
       "  <thead>\n",
       "    <tr style=\"text-align: right;\">\n",
       "      <th></th>\n",
       "      <th>Polarity</th>\n",
       "      <th>ID</th>\n",
       "      <th>Date</th>\n",
       "      <th>Query</th>\n",
       "      <th>USER_ID</th>\n",
       "      <th>Tweet</th>\n",
       "    </tr>\n",
       "  </thead>\n",
       "  <tbody>\n",
       "    <tr>\n",
       "      <th>0</th>\n",
       "      <td>4</td>\n",
       "      <td>1557400428</td>\n",
       "      <td>Sun Apr 19 03:53:12 PDT 2009</td>\n",
       "      <td>NO_QUERY</td>\n",
       "      <td>Kalediscope</td>\n",
       "      <td>@Hollywoodheat lol at least u know, gotta love...</td>\n",
       "    </tr>\n",
       "    <tr>\n",
       "      <th>1</th>\n",
       "      <td>4</td>\n",
       "      <td>2063137861</td>\n",
       "      <td>Sun Jun 07 01:30:21 PDT 2009</td>\n",
       "      <td>NO_QUERY</td>\n",
       "      <td>bellzaa</td>\n",
       "      <td>she cracks me up  and then the fat wig said to...</td>\n",
       "    </tr>\n",
       "    <tr>\n",
       "      <th>2</th>\n",
       "      <td>0</td>\n",
       "      <td>2259699723</td>\n",
       "      <td>Sat Jun 20 18:01:07 PDT 2009</td>\n",
       "      <td>NO_QUERY</td>\n",
       "      <td>oliiix3</td>\n",
       "      <td>i wanted jordin sparks to sing Battlefield</td>\n",
       "    </tr>\n",
       "    <tr>\n",
       "      <th>3</th>\n",
       "      <td>4</td>\n",
       "      <td>2174568133</td>\n",
       "      <td>Sun Jun 14 22:49:44 PDT 2009</td>\n",
       "      <td>NO_QUERY</td>\n",
       "      <td>stalkerh</td>\n",
       "      <td>Good Morning All , traffic was so nice today</td>\n",
       "    </tr>\n",
       "    <tr>\n",
       "      <th>4</th>\n",
       "      <td>4</td>\n",
       "      <td>1550968445</td>\n",
       "      <td>Sat Apr 18 07:46:36 PDT 2009</td>\n",
       "      <td>NO_QUERY</td>\n",
       "      <td>Danijelo</td>\n",
       "      <td>@MCHammer they dont show live-baseball in germ...</td>\n",
       "    </tr>\n",
       "  </tbody>\n",
       "</table>\n",
       "</div>"
      ],
      "text/plain": [
       "   Polarity          ID                          Date     Query      USER_ID  \\\n",
       "0         4  1557400428  Sun Apr 19 03:53:12 PDT 2009  NO_QUERY  Kalediscope   \n",
       "1         4  2063137861  Sun Jun 07 01:30:21 PDT 2009  NO_QUERY      bellzaa   \n",
       "2         0  2259699723  Sat Jun 20 18:01:07 PDT 2009  NO_QUERY      oliiix3   \n",
       "3         4  2174568133  Sun Jun 14 22:49:44 PDT 2009  NO_QUERY     stalkerh   \n",
       "4         4  1550968445  Sat Apr 18 07:46:36 PDT 2009  NO_QUERY     Danijelo   \n",
       "\n",
       "                                               Tweet  \n",
       "0  @Hollywoodheat lol at least u know, gotta love...  \n",
       "1  she cracks me up  and then the fat wig said to...  \n",
       "2        i wanted jordin sparks to sing Battlefield   \n",
       "3      Good Morning All , traffic was so nice today   \n",
       "4  @MCHammer they dont show live-baseball in germ...  "
      ]
     },
     "execution_count": 84,
     "metadata": {},
     "output_type": "execute_result"
    }
   ],
   "source": [
    "df.columns=['Polarity','ID','Date','Query','USER_ID','Tweet']\n",
    "df.head()"
   ]
  },
  {
   "cell_type": "code",
   "execution_count": 85,
   "metadata": {},
   "outputs": [
    {
     "name": "stdout",
     "output_type": "stream",
     "text": [
      "Ideal class size :  5000.0\n",
      "Length of class 0 :  4959\n",
      "Length of class 1 :  5041\n"
     ]
    },
    {
     "data": {
      "text/plain": [
       "False"
      ]
     },
     "execution_count": 85,
     "metadata": {},
     "output_type": "execute_result"
    }
   ],
   "source": [
    "class_imbalance(df,threshold=0.05)"
   ]
  },
  {
   "cell_type": "code",
   "execution_count": 123,
   "metadata": {},
   "outputs": [],
   "source": [
    "from vaderSentiment.vaderSentiment import SentimentIntensityAnalyzer as SIA\n",
    "sia=SIA()\n",
    "def sentiment_analyzer_scores(sentence):\n",
    "    score = sia.polarity_scores(sentence)\n",
    "    print(\"{} {}\".format(sentence, score))\n",
    "    return score"
   ]
  },
  {
   "cell_type": "code",
   "execution_count": 110,
   "metadata": {},
   "outputs": [
    {
     "data": {
      "text/plain": [
       "4959"
      ]
     },
     "execution_count": 110,
     "metadata": {},
     "output_type": "execute_result"
    }
   ],
   "source": [
    "len(np.array(df[df['Polarity']==0]))"
   ]
  },
  {
   "cell_type": "markdown",
   "metadata": {},
   "source": [
    "## What is the format of the training data?\n",
    "The data is a CSV with emoticons removed. Data file format has 6 fields:\n",
    "\n",
    "0 - the polarity of the tweet (0 = negative, 2 = neutral, 4 = positive)\n",
    "\n",
    "1 - the id of the tweet (2087)\n",
    "\n",
    "2 - the date of the tweet (Sat May 16 23:58:44 UTC 2009)\n",
    "\n",
    "3 - the query (lyx). If there is no query, then this value is NO_QUERY.\n",
    "\n",
    "4 - the user that tweeted (robotickilldozr)\n",
    "\n",
    "5 - the text of the tweet (Lyx is cool)\n"
   ]
  },
  {
   "cell_type": "markdown",
   "metadata": {},
   "source": [
    "Since we do not need the user_id,date,query, and tweet id, we can proceed to delete this columns"
   ]
  },
  {
   "cell_type": "code",
   "execution_count": 87,
   "metadata": {},
   "outputs": [
    {
     "data": {
      "text/html": [
       "<div>\n",
       "<style scoped>\n",
       "    .dataframe tbody tr th:only-of-type {\n",
       "        vertical-align: middle;\n",
       "    }\n",
       "\n",
       "    .dataframe tbody tr th {\n",
       "        vertical-align: top;\n",
       "    }\n",
       "\n",
       "    .dataframe thead th {\n",
       "        text-align: right;\n",
       "    }\n",
       "</style>\n",
       "<table border=\"1\" class=\"dataframe\">\n",
       "  <thead>\n",
       "    <tr style=\"text-align: right;\">\n",
       "      <th></th>\n",
       "      <th>Polarity</th>\n",
       "      <th>Tweet</th>\n",
       "    </tr>\n",
       "  </thead>\n",
       "  <tbody>\n",
       "    <tr>\n",
       "      <th>0</th>\n",
       "      <td>4</td>\n",
       "      <td>@Hollywoodheat lol at least u know, gotta love...</td>\n",
       "    </tr>\n",
       "    <tr>\n",
       "      <th>1</th>\n",
       "      <td>4</td>\n",
       "      <td>she cracks me up  and then the fat wig said to...</td>\n",
       "    </tr>\n",
       "    <tr>\n",
       "      <th>2</th>\n",
       "      <td>0</td>\n",
       "      <td>i wanted jordin sparks to sing Battlefield</td>\n",
       "    </tr>\n",
       "    <tr>\n",
       "      <th>3</th>\n",
       "      <td>4</td>\n",
       "      <td>Good Morning All , traffic was so nice today</td>\n",
       "    </tr>\n",
       "    <tr>\n",
       "      <th>4</th>\n",
       "      <td>4</td>\n",
       "      <td>@MCHammer they dont show live-baseball in germ...</td>\n",
       "    </tr>\n",
       "  </tbody>\n",
       "</table>\n",
       "</div>"
      ],
      "text/plain": [
       "   Polarity                                              Tweet\n",
       "0         4  @Hollywoodheat lol at least u know, gotta love...\n",
       "1         4  she cracks me up  and then the fat wig said to...\n",
       "2         0        i wanted jordin sparks to sing Battlefield \n",
       "3         4      Good Morning All , traffic was so nice today \n",
       "4         4  @MCHammer they dont show live-baseball in germ..."
      ]
     },
     "execution_count": 87,
     "metadata": {},
     "output_type": "execute_result"
    }
   ],
   "source": [
    "drop=['ID', 'Date', 'Query', 'USER_ID']\n",
    "df.drop(drop,axis=1,inplace=True)\n",
    "df.head()"
   ]
  },
  {
   "cell_type": "code",
   "execution_count": 88,
   "metadata": {},
   "outputs": [],
   "source": [
    "import re\n",
    "from nltk.tokenize import word_tokenize\n",
    "from string import punctuation\n",
    "from nltk.corpus import stopwords\n",
    "\n",
    "class PreProcessTweets:\n",
    "    \n",
    "    def __init__(self):\n",
    "        self._stopwords=set(stopwords.words('english')+list(punctuation)+['AT_USER','URL'])\n",
    "\n",
    "    def pre_processTweet(self,tweet):\n",
    "        tweet=tweet.lower()  #to convert the text to lower case\n",
    "        tweet=re.sub('((www\\.[^\\s]+)|(https?://[^\\s]+))','URL',tweet) #to remove URLs\n",
    "        tweet=re.sub('@[^\\s]+','AT_USER',tweet) #to remove usernames\n",
    "        tweet=re.sub('#([^\\s]+)','\\1',tweet)# to remove the hashtag\n",
    "        \n",
    "        \n",
    "        return tweet    \n",
    "        \n",
    "    def processTweets(self,list_of_tweets):\n",
    "        processedTweets=[]\n",
    "        for tweet in list_of_tweets:\n",
    "            tweet = self.pre_processTweet(tweet)\n",
    "            processedTweets.append(tweet)\n",
    "        return processedTweets"
   ]
  },
  {
   "cell_type": "code",
   "execution_count": 89,
   "metadata": {},
   "outputs": [
    {
     "data": {
      "text/html": [
       "<div>\n",
       "<style scoped>\n",
       "    .dataframe tbody tr th:only-of-type {\n",
       "        vertical-align: middle;\n",
       "    }\n",
       "\n",
       "    .dataframe tbody tr th {\n",
       "        vertical-align: top;\n",
       "    }\n",
       "\n",
       "    .dataframe thead th {\n",
       "        text-align: right;\n",
       "    }\n",
       "</style>\n",
       "<table border=\"1\" class=\"dataframe\">\n",
       "  <thead>\n",
       "    <tr style=\"text-align: right;\">\n",
       "      <th></th>\n",
       "      <th>Tweet</th>\n",
       "      <th>Polarity</th>\n",
       "    </tr>\n",
       "  </thead>\n",
       "  <tbody>\n",
       "    <tr>\n",
       "      <th>0</th>\n",
       "      <td>AT_USER lol at least u know, gotta love grandm...</td>\n",
       "      <td>4</td>\n",
       "    </tr>\n",
       "    <tr>\n",
       "      <th>1</th>\n",
       "      <td>she cracks me up  and then the fat wig said to...</td>\n",
       "      <td>4</td>\n",
       "    </tr>\n",
       "    <tr>\n",
       "      <th>2</th>\n",
       "      <td>i wanted jordin sparks to sing battlefield</td>\n",
       "      <td>0</td>\n",
       "    </tr>\n",
       "    <tr>\n",
       "      <th>3</th>\n",
       "      <td>good morning all , traffic was so nice today</td>\n",
       "      <td>4</td>\n",
       "    </tr>\n",
       "    <tr>\n",
       "      <th>4</th>\n",
       "      <td>AT_USER they dont show live-baseball in german...</td>\n",
       "      <td>4</td>\n",
       "    </tr>\n",
       "  </tbody>\n",
       "</table>\n",
       "</div>"
      ],
      "text/plain": [
       "                                               Tweet  Polarity\n",
       "0  AT_USER lol at least u know, gotta love grandm...         4\n",
       "1  she cracks me up  and then the fat wig said to...         4\n",
       "2        i wanted jordin sparks to sing battlefield          0\n",
       "3      good morning all , traffic was so nice today          4\n",
       "4  AT_USER they dont show live-baseball in german...         4"
      ]
     },
     "execution_count": 89,
     "metadata": {},
     "output_type": "execute_result"
    }
   ],
   "source": [
    "preprocess=PreProcessTweets()\n",
    "pre_df=preprocess.processTweets(df['Tweet'])\n",
    "pre_df=pd.DataFrame(pre_df)\n",
    "pre_df=pd.concat([pre_df,df['Polarity']],axis=1)\n",
    "pre_df.columns=['Tweet','Polarity']\n",
    "pre_df.head()"
   ]
  },
  {
   "cell_type": "code",
   "execution_count": 90,
   "metadata": {},
   "outputs": [],
   "source": [
    "def clean_text(x):\n",
    "  \n",
    "  tw=['AT_USER','URL']\n",
    "\n",
    "  text=[word for word in x.split() if word not in tw ]\n",
    "  text=\" \".join(text)\n",
    "\n",
    "  return text"
   ]
  },
  {
   "cell_type": "code",
   "execution_count": 91,
   "metadata": {},
   "outputs": [],
   "source": [
    "pre_df['cleaned']=pre_df['Tweet'].apply(lambda x: clean_text(x))"
   ]
  },
  {
   "cell_type": "markdown",
   "metadata": {},
   "source": [
    "check for class imbalance\n",
    "\n",
    "cross validatoin, check each set is training and val set is class balanced"
   ]
  },
  {
   "cell_type": "markdown",
   "metadata": {},
   "source": [
    "## Data Exploration\n"
   ]
  },
  {
   "cell_type": "code",
   "execution_count": 92,
   "metadata": {},
   "outputs": [
    {
     "data": {
      "image/png": "[encoded data removed]",
      "text/plain": [
       "<Figure size 864x288 with 1 Axes>"
      ]
     },
     "metadata": {
      "needs_background": "light"
     },
     "output_type": "display_data"
    }
   ],
   "source": [
    "\n",
    "sns.countplot(x='Polarity',data=pre_df);\n",
    "plt.title(\"Distribution of classes\");"
   ]
  },
  {
   "cell_type": "code",
   "execution_count": 93,
   "metadata": {
    "scrolled": true
   },
   "outputs": [
    {
     "data": {
      "image/png": "[encoded data removed]",
      "text/plain": [
       "<Figure size 864x288 with 1 Axes>"
      ]
     },
     "metadata": {
      "needs_background": "light"
     },
     "output_type": "display_data"
    }
   ],
   "source": [
    "#distribution of number of words in tweet\n",
    "pre_df['word_count']=pre_df['cleaned'].apply(lambda x: len(x.split()))\n",
    "\n",
    "sns.kdeplot(pre_df['word_count'][pre_df['Polarity']==0],shade=True,label='Negative Sentiment');\n",
    "sns.kdeplot(pre_df['word_count'][pre_df['Polarity']==2],shade=True,label='Neutral Sentiment');\n",
    "sns.kdeplot(pre_df['word_count'][pre_df['Polarity']==4],shade=True,label='Positive Sentiment');\n",
    "\n",
    "plt.title('Distribution of Word Count');\n",
    "plt.show()"
   ]
  },
  {
   "cell_type": "code",
   "execution_count": 94,
   "metadata": {},
   "outputs": [
    {
     "data": {
      "text/plain": [
       "Tweet         18\n",
       "Polarity      18\n",
       "cleaned       18\n",
       "word_count    18\n",
       "dtype: int64"
      ]
     },
     "execution_count": 94,
     "metadata": {},
     "output_type": "execute_result"
    }
   ],
   "source": [
    "pre_df[pre_df[\"word_count\"]==30].count()"
   ]
  },
  {
   "cell_type": "code",
   "execution_count": 95,
   "metadata": {
    "scrolled": true
   },
   "outputs": [
    {
     "data": {
      "image/png": "[encoded data removed]",
      "text/plain": [
       "<Figure size 864x288 with 1 Axes>"
      ]
     },
     "metadata": {
      "needs_background": "light"
     },
     "output_type": "display_data"
    }
   ],
   "source": [
    "#distribution of number of words in tweet\n",
    "pre_df['unique_word_count']=pre_df['cleaned'].apply(lambda x: len(set(x.split())))\n",
    "\n",
    "sns.kdeplot(pre_df['unique_word_count'][pre_df['Polarity']==0],shade=True,label='Negative Sentiment');\n",
    "sns.kdeplot(pre_df['unique_word_count'][pre_df['Polarity']==2],shade=True,label='Neutral Sentiment');\n",
    "sns.kdeplot(pre_df['unique_word_count'][pre_df['Polarity']==4],shade=True,label='Positive Sentiment');\n",
    "\n",
    "plt.title('Distribution of Unique Word Count');\n",
    "plt.show()"
   ]
  },
  {
   "cell_type": "code",
   "execution_count": 96,
   "metadata": {
    "scrolled": true
   },
   "outputs": [
    {
     "name": "stderr",
     "output_type": "stream",
     "text": [
      "C:\\Users\\Public\\anaconda3\\lib\\site-packages\\numpy\\core\\fromnumeric.py:3373: RuntimeWarning: Mean of empty slice.\n",
      "  out=out, **kwargs)\n"
     ]
    },
    {
     "data": {
      "image/png": "[encoded data removed]",
      "text/plain": [
       "<Figure size 864x288 with 1 Axes>"
      ]
     },
     "metadata": {
      "needs_background": "light"
     },
     "output_type": "display_data"
    }
   ],
   "source": [
    "\n",
    "#Distribution of average word count\n",
    "def average_word_length(x):\n",
    "    x = x.split()\n",
    "    return np.mean([len(i) for i in x])\n",
    "\n",
    "pre_df['average_word_length']=pre_df['cleaned'].apply(lambda x: average_word_length(x))\n",
    "\n",
    "sns.kdeplot(pre_df['average_word_length'][pre_df['Polarity']==0],shade=True,label='Negative Sentiment');\n",
    "sns.kdeplot(pre_df['average_word_length'][pre_df['Polarity']==2],shade=True,label='Neutral Sentiment');\n",
    "sns.kdeplot(pre_df['average_word_length'][pre_df['Polarity']==4],shade=True,label='Positive Sentiment');\n",
    "plt.xlim(0,10)\n",
    "\n",
    "plt.title('Distribution of Average Word Length');\n",
    "plt.show()"
   ]
  },
  {
   "cell_type": "markdown",
   "metadata": {},
   "source": [
    "## Data Cleaning\n"
   ]
  },
  {
   "cell_type": "code",
   "execution_count": 97,
   "metadata": {},
   "outputs": [],
   "source": [
    "\n",
    "def clean(tweet):\n",
    "    tweet = re.sub(r\"he's\", \"he is\", tweet)\n",
    "    tweet = re.sub(r\"there's\", \"there is\", tweet)\n",
    "    tweet = re.sub(r\"We're\", \"We are\", tweet)\n",
    "    tweet = re.sub(r\"That's\", \"That is\", tweet)\n",
    "    tweet = re.sub(r\"won't\", \"will not\", tweet)\n",
    "    tweet = re.sub(r\"they're\", \"they are\", tweet)\n",
    "    tweet = re.sub(r\"Can't\", \"Cannot\", tweet)\n",
    "    tweet = re.sub(r\"wasn't\", \"was not\", tweet)\n",
    "    tweet = re.sub(r\"aren't\", \"are not\", tweet)\n",
    "    tweet = re.sub(r\"isn't\", \"is not\", tweet)\n",
    "    tweet = re.sub(r\"What's\", \"What is\", tweet)\n",
    "    tweet = re.sub(r\"i'd\", \"I would\", tweet)\n",
    "    tweet = re.sub(r\"should've\", \"should have\", tweet)\n",
    "    tweet = re.sub(r\"where's\", \"where is\", tweet)\n",
    "    tweet = re.sub(r\"we'd\", \"we would\", tweet)\n",
    "    tweet = re.sub(r\"i'll\", \"I will\", tweet)\n",
    "    tweet = re.sub(r\"weren't\", \"were not\", tweet)\n",
    "    tweet = re.sub(r\"They're\", \"They are\", tweet)\n",
    "    tweet = re.sub(r\"let's\", \"let us\", tweet)\n",
    "    tweet = re.sub(r\"it's\", \"it is\", tweet)\n",
    "    tweet = re.sub(r\"can't\", \"cannot\", tweet)\n",
    "    tweet = re.sub(r\"don't\", \"do not\", tweet)\n",
    "    tweet = re.sub(r\"you're\", \"you are\", tweet)\n",
    "    tweet = re.sub(r\"i've\", \"I have\", tweet)\n",
    "    tweet = re.sub(r\"that's\", \"that is\", tweet)\n",
    "    tweet = re.sub(r\"i'll\", \"I will\", tweet)\n",
    "    tweet = re.sub(r\"doesn't\", \"does not\", tweet)\n",
    "    tweet = re.sub(r\"i'd\", \"I would\", tweet)\n",
    "    tweet = re.sub(r\"didn't\", \"did not\", tweet)\n",
    "    tweet = re.sub(r\"ain't\", \"am not\", tweet)\n",
    "    tweet = re.sub(r\"you'll\", \"you will\", tweet)\n",
    "    tweet = re.sub(r\"I've\", \"I have\", tweet)\n",
    "    tweet = re.sub(r\"Don't\", \"do not\", tweet)\n",
    "    tweet = re.sub(r\"I'll\", \"I will\", tweet)\n",
    "    tweet = re.sub(r\"I'd\", \"I would\", tweet)\n",
    "    tweet = re.sub(r\"Let's\", \"Let us\", tweet)\n",
    "    tweet = re.sub(r\"you'd\", \"You would\", tweet)\n",
    "    tweet = re.sub(r\"It's\", \"It is\", tweet)\n",
    "    tweet = re.sub(r\"Ain't\", \"am not\", tweet)\n",
    "    tweet = re.sub(r\"Haven't\", \"Have not\", tweet)\n",
    "    tweet = re.sub(r\"Could've\", \"Could have\", tweet)\n",
    "    tweet = re.sub(r\"youve\", \"you have\", tweet)\n",
    "    tweet = re.sub(r\"haven't\", \"have not\", tweet)\n",
    "    tweet = re.sub(r\"hasn't\", \"has not\", tweet)\n",
    "    tweet = re.sub(r\"There's\", \"There is\", tweet)\n",
    "    tweet = re.sub(r\"He's\", \"He is\", tweet)\n",
    "    tweet = re.sub(r\"It's\", \"It is\", tweet)\n",
    "    tweet = re.sub(r\"You're\", \"You are\", tweet)\n",
    "    tweet = re.sub(r\"I'M\", \"I am\", tweet)\n",
    "    tweet = re.sub(r\"shouldn't\", \"should not\", tweet)\n",
    "    tweet = re.sub(r\"wouldn't\", \"would not\", tweet)\n",
    "    tweet = re.sub(r\"i'm\", \"I am\", tweet)\n",
    "    tweet = re.sub(r\"I'm\", \"I am\", tweet)\n",
    "    tweet = re.sub(r\"Isn't\", \"is not\", tweet)\n",
    "    tweet = re.sub(r\"Here's\", \"Here is\", tweet)\n",
    "    tweet = re.sub(r\"you've\", \"you have\", tweet)\n",
    "    tweet = re.sub(r\"we're\", \"we are\", tweet)\n",
    "    tweet = re.sub(r\"what's\", \"what is\", tweet)\n",
    "    tweet = re.sub(r\"couldn't\", \"could not\", tweet)\n",
    "    tweet = re.sub(r\"we've\", \"we have\", tweet)\n",
    "    tweet = re.sub(r\"who's\", \"who is\", tweet)\n",
    "    tweet = re.sub(r\"y'all\", \"you all\", tweet)\n",
    "    tweet = re.sub(r\"would've\", \"would have\", tweet)\n",
    "    tweet = re.sub(r\"it'll\", \"it will\", tweet)\n",
    "    tweet = re.sub(r\"we'll\", \"we will\", tweet)\n",
    "    tweet = re.sub(r\"We've\", \"We have\", tweet)\n",
    "    tweet = re.sub(r\"he'll\", \"he will\", tweet)\n",
    "    tweet = re.sub(r\"Y'all\", \"You all\", tweet)\n",
    "    tweet = re.sub(r\"Weren't\", \"Were not\", tweet)\n",
    "    tweet = re.sub(r\"Didn't\", \"Did not\", tweet)\n",
    "    tweet = re.sub(r\"they'll\", \"they will\", tweet)\n",
    "    tweet = re.sub(r\"they'd\", \"they would\", tweet)\n",
    "    tweet = re.sub(r\"DON'T\", \"DO NOT\", tweet)\n",
    "    tweet = re.sub(r\"they've\", \"they have\", tweet)\n",
    "    return tweet"
   ]
  },
  {
   "cell_type": "code",
   "execution_count": 98,
   "metadata": {},
   "outputs": [],
   "source": [
    "from nltk.corpus import wordnet\n",
    "\n",
    "def get_wordnet_pos(tag):\n",
    "\n",
    "    if tag.startswith('J'):\n",
    "        return wordnet.ADJ\n",
    "    elif tag.startswith('V'):\n",
    "        return wordnet.VERB\n",
    "    elif tag.startswith('N'):\n",
    "        return wordnet.NOUN\n",
    "    elif tag.startswith('R'):\n",
    "        return wordnet.ADV\n",
    "    else:\n",
    "        return wordnet.NOUN"
   ]
  },
  {
   "cell_type": "code",
   "execution_count": 99,
   "metadata": {},
   "outputs": [],
   "source": [
    "\n",
    "stopword=set(stopwords.words('english'))\n",
    "stopword=stopword.union(set(punctuation))\n",
    "lemmatizer=WordNetLemmatizer()\n",
    "\n",
    "\n",
    "def lemmatize(text):\n",
    "    text=word_tokenize(text)\n",
    "    tagged=nltk.pos_tag(text)\n",
    "    string=[]\n",
    "    \n",
    "    for index,word in enumerate(text):\n",
    "        if word not in stopword:\n",
    "            word=lemmatizer.lemmatize(word,pos=get_wordnet_pos(tagged[index][1]))\n",
    "            string.append(word)\n",
    "    string=\" \".join(string)\n",
    "    return string"
   ]
  },
  {
   "cell_type": "code",
   "execution_count": 100,
   "metadata": {},
   "outputs": [],
   "source": [
    "pre_df['cleaned']=pre_df['cleaned'].apply(lambda x: clean(x))\n",
    "pre_df['lemma']=pre_df['cleaned'].apply(lambda x: lemmatize(x))\n"
   ]
  },
  {
   "cell_type": "code",
   "execution_count": 101,
   "metadata": {},
   "outputs": [
    {
     "data": {
      "text/plain": [
       "Index(['Tweet', 'Polarity', 'cleaned', 'word_count', 'unique_word_count',\n",
       "       'average_word_length', 'lemma'],\n",
       "      dtype='object')"
      ]
     },
     "execution_count": 101,
     "metadata": {},
     "output_type": "execute_result"
    }
   ],
   "source": [
    "pre_df.columns"
   ]
  },
  {
   "cell_type": "code",
   "execution_count": 102,
   "metadata": {},
   "outputs": [],
   "source": [
    "drop1=['Tweet','cleaned','word_count','unique_word_count',\n",
    "       'average_word_length']\n",
    "clean_df=pre_df.drop(drop1,axis=1)"
   ]
  },
  {
   "cell_type": "code",
   "execution_count": 103,
   "metadata": {},
   "outputs": [],
   "source": [
    "clean_df.to_csv('Lemmatized_text')"
   ]
  },
  {
   "cell_type": "code",
   "execution_count": 26,
   "metadata": {},
   "outputs": [],
   "source": [
    "from nltk.tokenize import RegexpTokenizer\n",
    "from sklearn.feature_extraction.text import TfidfVectorizer\n",
    "\n",
    "\n",
    "token=RegexpTokenizer(r'[a-zA-Z0-9]+')\n",
    "tfidf=TfidfVectorizer(stop_words='english',tokenizer=token.tokenize)\n",
    "text=tfidf.fit_transform(clean_df['lemma'])\n"
   ]
  },
  {
   "cell_type": "markdown",
   "metadata": {},
   "source": [
    "## Model "
   ]
  },
  {
   "cell_type": "code",
   "execution_count": 27,
   "metadata": {},
   "outputs": [],
   "source": [
    "def model_class_imbalance(label,threshold,num_classes=2):\n",
    "    c=[]\n",
    "    \n",
    "    l=len(label)/num_classes\n",
    "    print(\"**********************************\")\n",
    "    print(\"Ideal class size : \",l)\n",
    "    for i in range(num_classes):\n",
    "        \n",
    "        k=label[label==4*i].count()\n",
    "        c.append(k)\n",
    "        \n",
    "        print(\"Length of class\",i,\": \",c[i])\n",
    "        if (1-threshold)*l<c[i]<(1+threshold)*l:\n",
    "            continue;\n",
    "            \n",
    "        else:\n",
    "            print('There exists a Class Imbalance in your Dataset')\n",
    "            return True\n",
    "            break;\n",
    "    return False\n",
    "        "
   ]
  },
  {
   "cell_type": "code",
   "execution_count": null,
   "metadata": {},
   "outputs": [],
   "source": [
    "from sklearn.naive_bayes import MultinomialNB,GaussianNB,BernoulliNB\n",
    "from sklearn.model_selection import train_test_split\n",
    "\n",
    "x_train,x_test,y_train,y_test=train_test_split(text,clean_df['Polarity'],test_size=0.2,shuffle=True)\n",
    "while model_class_imbalance(y_train,threshold=0.05) or model_class_imbalance(y_test,0.05)==True:\n",
    "    x_train,x_test,y_train,y_test=train_test_split(text,clean_df['Polarity'],test_size=0.2,shuffle=True)"
   ]
  },
  {
   "cell_type": "code",
   "execution_count": null,
   "metadata": {},
   "outputs": [],
   "source": [
    "from sklearn import metrics\n",
    "clf1=MultinomialNB()\n",
    "%time clf1.fit(x_train,y_train)\n",
    "ypred1=clf1.predict(x_test)\n",
    "print(\"MultinomialNB Accuracy:\",metrics.accuracy_score(y_test, ypred1))"
   ]
  },
  {
   "cell_type": "code",
   "execution_count": null,
   "metadata": {},
   "outputs": [],
   "source": [
    "\n",
    "%time clf3 = BernoulliNB().fit(x_train,y_train)\n",
    "ypred3= clf3.predict(x_test)\n",
    "print(\"BernoulliNB Accuracy:\",metrics.accuracy_score(y_test,ypred3))"
   ]
  },
  {
   "cell_type": "code",
   "execution_count": null,
   "metadata": {},
   "outputs": [],
   "source": []
  },
  {
   "cell_type": "code",
   "execution_count": null,
   "metadata": {},
   "outputs": [],
   "source": []
  },
  {
   "cell_type": "code",
   "execution_count": null,
   "metadata": {},
   "outputs": [],
   "source": []
  },
  {
   "cell_type": "code",
   "execution_count": null,
   "metadata": {},
   "outputs": [],
   "source": []
  }
 ],
 "metadata": {
  "kernelspec": {
   "display_name": "Python 3",
   "language": "python",
   "name": "python3"
  },
  "language_info": {
   "codemirror_mode": {
    "name": "ipython",
    "version": 3
   },
   "file_extension": ".py",
   "mimetype": "text/x-python",
   "name": "python",
   "nbconvert_exporter": "python",
   "pygments_lexer": "ipython3",
   "version": "3.7.6"
  }
 },
 "nbformat": 4,
 "nbformat_minor": 4
}
